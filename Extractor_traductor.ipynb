{
 "cells": [
  {
   "cell_type": "code",
   "execution_count": 36,
   "metadata": {},
   "outputs": [],
   "source": [
    "import nbformat\n",
    "from deep_translator import GoogleTranslator\n",
    "\n",
    "def extraer_texto_ipynb(archivo_ipynb):\n",
    "    with open(archivo_ipynb, 'r', encoding='utf-8') as file:\n",
    "        contenido = nbformat.read(file, as_version=4)\n",
    "    \n",
    "    texto = \"\"\n",
    "\n",
    "    for celda in contenido['cells']:\n",
    "        if celda['cell_type'] == 'markdown':\n",
    "            # Si la celda es de tipo markdown, agrega su contenido al texto\n",
    "            texto += ''.join(celda['source']) + '\\n'\n",
    "        elif celda['cell_type'] == 'code':\n",
    "            # Si la celda es de tipo código, agrega el código al texto\n",
    "            texto += ''.join(celda['source']) + '\\n'\n",
    "\n",
    "    return texto\n",
    "\n",
    "def traducir_texto(texto):\n",
    "    lista = texto.split('\\n')\n",
    "\n",
    "    for i in range(len(lista)):\n",
    "        lista[i] = GoogleTranslator(source='ru', target='en').translate(lista[i])\n",
    "\n",
    "    traduccion = '\\n '.join(lista)\n",
    "    return traduccion\n",
    "\n",
    "# Uso del ejemplo\n",
    "archivo_ipynb = 'ya_ad_int_solution.ipynb'\n",
    "texto_extraido = extraer_texto_ipynb(archivo_ipynb)\n",
    "\n",
    "# Crear una instancia de NotebookNode con el contenido\n",
    "notebook = nbformat.v4.new_notebook(cells=[nbformat.v4.new_markdown_cell(traducir_texto(texto_extraido))])\n",
    "\n",
    "# Escribir el notebook en un archivo .ipynb\n",
    "with open('mi_notebook.ipynb', 'w', encoding='utf-8') as f:\n",
    "    nbformat.write(notebook, f)"
   ]
  }
 ],
 "metadata": {
  "kernelspec": {
   "display_name": "Python 3",
   "language": "python",
   "name": "python3"
  },
  "language_info": {
   "codemirror_mode": {
    "name": "ipython",
    "version": 3
   },
   "file_extension": ".py",
   "mimetype": "text/x-python",
   "name": "python",
   "nbconvert_exporter": "python",
   "pygments_lexer": "ipython3",
   "version": "3.11.6"
  }
 },
 "nbformat": 4,
 "nbformat_minor": 2
}
